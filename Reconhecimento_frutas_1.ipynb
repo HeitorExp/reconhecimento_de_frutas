{
  "nbformat": 4,
  "nbformat_minor": 0,
  "metadata": {
    "colab": {
      "provenance": [],
      "gpuType": "T4"
    },
    "kernelspec": {
      "name": "python3",
      "display_name": "Python 3"
    },
    "language_info": {
      "name": "python"
    }
  },
  "cells": [
    {
      "cell_type": "markdown",
      "source": [
        "## 1. Setup e Conseguindo os Dados"
      ],
      "metadata": {
        "id": "K3DUt4OaAbF-"
      }
    },
    {
      "cell_type": "markdown",
      "source": [
        "### 1.1 Instalando as dependências e o Setup"
      ],
      "metadata": {
        "id": "l2xOkPsOAk_m"
      }
    },
    {
      "cell_type": "code",
      "execution_count": null,
      "metadata": {
        "id": "BJisU6kX9Q2W"
      },
      "outputs": [],
      "source": [
        "!pip install labelme #----> https://github.com/labelmeai/labelme\n",
        "!pip install tensorflow #----> https://github.com/tensorflow/tensorflow\n",
        "!pip install opencv-python #----> https://github.com/opencv/opencv-python\n",
        "!pip install matplotlib #----> https://github.com/matplotlib/matplotlib\n",
        "!pip install albumentations #----> https://github.com/albumentations-team/albumentations"
      ]
    },
    {
      "cell_type": "code",
      "source": [
        "import labelme #----> Para realizar a rotulagem dos objetos identificados\n",
        "import tensorflow #----> Para realizar a criação da rede de deep learning\n",
        "import cv2 #----> Detecção em tempo real e capturar as imagens\n",
        "import matplotlib #----> Para fazer o rendering das imagens\n",
        "import albumentations #----> Aumento do dataset das imagens quanto dos rótulos"
      ],
      "metadata": {
        "id": "QZ6rlumRAvB7"
      },
      "execution_count": null,
      "outputs": []
    },
    {
      "cell_type": "markdown",
      "source": [
        "### 1.2 Coletando as imagens usando OpenCV"
      ],
      "metadata": {
        "id": "d-_2liRgAqw8"
      }
    },
    {
      "cell_type": "code",
      "source": [
        "import os #----> Para navegar através de diferentes arquivos, juntar e listar itens dentro de um diretório\n",
        "import time #----> Para ter um intervalo de tempo entre as capturas de imagens\n",
        "import uuid #----> Para transformar o nome de cada imagem em um identificar unico\n",
        "import cv2 #----> Para capturar as imagens e armazena-las\n",
        "from pathlib import Path"
      ],
      "metadata": {
        "id": "al_Fwj3pI8a2"
      },
      "execution_count": null,
      "outputs": []
    },
    {
      "cell_type": "code",
      "source": [
        "# Substitua 'caminho_da_pasta' pelo caminho da sua pasta de imagens\n",
        "caminho_da_pasta = '/content/drive/MyDrive/reconhecimento de frutas/data/imagens'\n",
        "\n",
        "# Lista todos os arquivos na pasta\n",
        "arquivos = os.listdir(caminho_da_pasta)\n",
        "\n",
        "# Contador para limitar a leitura a 200 imagens\n",
        "contador = 0\n",
        "\n",
        "# Lista para armazenar os novos nomes das imagens\n",
        "novos_nomes = []\n",
        "\n",
        "for arquivo in arquivos:\n",
        "    # Verifica se o arquivo é uma imagem\n",
        "    if arquivo.endswith(('.png', '.jpg', '.jpeg')):\n",
        "        # Cria um caminho completo para a imagem\n",
        "        caminho_completo = os.path.join(caminho_da_pasta, arquivo)\n",
        "\n",
        "        # Lê a imagem usando OpenCV\n",
        "        imagem = cv2.imread(caminho_completo)\n",
        "\n",
        "        # Gera um identificador único\n",
        "        identificador_unico = uuid.uuid4()\n",
        "\n",
        "        # Cria um novo nome para a imagem\n",
        "        novo_nome = f\"{identificador_unico}.jpg\"\n",
        "\n",
        "        # Adiciona o novo nome à lista\n",
        "        novos_nomes.append(novo_nome)\n",
        "\n",
        "        # Renomeia o arquivo\n",
        "        os.rename(caminho_completo, Path(caminho_da_pasta) / novo_nome)\n",
        "\n",
        "        # Incrementa o contador\n",
        "        contador += 1\n",
        "\n",
        "        # Interrompe o loop se 630 imagens já foram lidas\n",
        "        if contador >= 630:\n",
        "            break\n",
        "\n",
        "# Imprime os novos nomes das imagens\n",
        "for nome in novos_nomes:\n",
        "    print(nome)"
      ],
      "metadata": {
        "id": "qzpfNR-upoDl"
      },
      "execution_count": null,
      "outputs": []
    },
    {
      "cell_type": "markdown",
      "source": [
        "### 1.3 Rotulando as imagens com LabelMe"
      ],
      "metadata": {
        "id": "z_BCD2f1DL9s"
      }
    },
    {
      "cell_type": "code",
      "source": [
        "!labelme"
      ],
      "metadata": {
        "colab": {
          "base_uri": "https://localhost:8080/"
        },
        "id": "NNfx97L2DG74",
        "outputId": "f2c60ea3-9db4-4fb7-d56a-2d9bd1aa03fb"
      },
      "execution_count": null,
      "outputs": [
        {
          "output_type": "stream",
          "name": "stdout",
          "text": [
            "2024-03-11 15:06:39,823 [\u001b[1m\u001b[97mINFO   \u001b[0m] \u001b[36m__init__\u001b[0m:\u001b[36mget_config\u001b[0m:\u001b[36m67\u001b[0m- \u001b[1m\u001b[97mLoading config file from: /root/.labelmerc\u001b[0m\n",
            "QObject::moveToThread: Current thread (0x58977f4be360) is not the object's thread (0x589780ed4bc0).\n",
            "Cannot move to target thread (0x58977f4be360)\n",
            "\n",
            "qt.qpa.plugin: Could not load the Qt platform plugin \"xcb\" in \"/usr/local/lib/python3.10/dist-packages/cv2/qt/plugins\" even though it was found.\n",
            "This application failed to start because no Qt platform plugin could be initialized. Reinstalling the application may fix this problem.\n",
            "\n",
            "Available platform plugins are: xcb, eglfs, linuxfb, minimal, minimalegl, offscreen, vnc, wayland-egl, wayland, wayland-xcomposite-egl, wayland-xcomposite-glx, webgl.\n",
            "\n"
          ]
        }
      ]
    }
  ]
}